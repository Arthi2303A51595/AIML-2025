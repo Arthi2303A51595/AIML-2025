{
  "nbformat": 4,
  "nbformat_minor": 0,
  "metadata": {
    "colab": {
      "provenance": [],
      "authorship_tag": "ABX9TyNFU/wFoRWiCRGiisHn4Gdf",
      "include_colab_link": true
    },
    "kernelspec": {
      "name": "python3",
      "display_name": "Python 3"
    },
    "language_info": {
      "name": "python"
    }
  },
  "cells": [
    {
      "cell_type": "markdown",
      "metadata": {
        "id": "view-in-github",
        "colab_type": "text"
      },
      "source": [
        "<a href=\"https://colab.research.google.com/github/Arthi2303A51595/AIML-2025/blob/main/Copy_of_Lab3.ipynb\" target=\"_parent\"><img src=\"https://colab.research.google.com/assets/colab-badge.svg\" alt=\"Open In Colab\"/></a>"
      ]
    },
    {
      "cell_type": "code",
      "execution_count": null,
      "metadata": {
        "id": "lOkNvBYvNCue"
      },
      "outputs": [],
      "source": [
        "from collections import namedtuple, Counter, defaultdict\n",
        "import random\n",
        "import math\n",
        "import functools\n",
        "cache= functools.lru_cache(10**6)"
      ]
    },
    {
      "cell_type": "code",
      "source": [
        "class Game:\n",
        "  def actions (self , state ):\n",
        "##Return a collection of the allowable moves from this state .”””\n",
        "   raise NotImplementedError\n",
        "def result (self , state , move ):\n",
        "##Return the state that results from making a move from a state .”””\n",
        "  raise NotImplementedError\n",
        "def is_terminal (self , state ):\n",
        "##Return True if this is a final state for the game.”””\n",
        " return not self. actions (state)\n",
        "def utility (self , state , player ):\n",
        "## Return the value of this final state to player.”””\n",
        "  raise NotImplementedError\n"
      ],
      "metadata": {
        "id": "bPbEfIflQrHs"
      },
      "execution_count": null,
      "outputs": []
    },
    {
      "cell_type": "code",
      "source": [
        "def play_game (game , strategies : dict , verbose =False ):\n",
        "##Play a turn−taking game. ‘strategies ‘ is a {player name: function} dict ,\n",
        "##where function(state , game) is used to get the player ’s move.”””\n",
        " state = game. initial\n",
        " while not game. is_terminal (state ):\n",
        "  player = state. to_move\n",
        "  move = strategies [ player ](game , state)\n",
        "  state = game. result (state , move)\n",
        "  if verbose :\n",
        "      print('Player ', player , 'move:', move)\n",
        "      print(state)\n",
        "  return state\n"
      ],
      "metadata": {
        "id": "-0q3TWZ3S4rR"
      },
      "execution_count": null,
      "outputs": []
    },
    {
      "cell_type": "code",
      "source": [
        "class Game:\n",
        "    def actions (self , state ):\n",
        " ##Return a collection of the allowable moves from this state .”””\n",
        "        raise NotImplementedError\n",
        "    def result (self , state , move ):\n",
        " ##Return the state that results from making a move from a state .”””\n",
        "        raise NotImplementedError\n",
        "    def is_terminal (self , state ):\n",
        " ##Return True if this is a final state for the game.”””\n",
        "        return not self. actions (state)\n",
        "    def utility (self , state , player ):\n",
        " ##Return the value of this final state to player.”””\n",
        "       raise NotImplementedError"
      ],
      "metadata": {
        "id": "hrwtO8dVA1P6"
      },
      "execution_count": 1,
      "outputs": []
    },
    {
      "cell_type": "code",
      "source": [
        "def minimax_search (game , state ):\n",
        "   #”””Search game tree to determine best move; return (value, move) pair.”””\n",
        "   player = state. to_move\n",
        "   def max_value (state ):\n",
        "    if game. is_terminal (state ):\n",
        "      return game. utility (state , player ), None\n",
        "      v, move = infinity , None\n",
        "      for a in game. actions (state ):\n",
        "       v2 , = min_value (game. result (state , a))\n",
        "       if v2 > v:\n",
        "        v, move = v2 , a\n",
        "        return v, move\n",
        "        def min_value (state ):\n",
        "          if game. is_terminal (state ):\n",
        "            return game. utility (state , player ), None\n",
        "            v, move = +infinity , None\n",
        "            for a in game. actions (state ):\n",
        "              v2 , = max_value (game. result (state , a))\n",
        "              if v2 < v:\n",
        "                 v, move = v2 , a\n",
        "                 return v, move\n",
        "                 return max_value (state)\n",
        "                 infinity = math.inf"
      ],
      "metadata": {
        "id": "dHBXbQ18AtIs"
      },
      "execution_count": 2,
      "outputs": []
    },
    {
      "cell_type": "code",
      "source": [],
      "metadata": {
        "id": "jUMGJORmBRHn"
      },
      "execution_count": null,
      "outputs": []
    }
  ]
}