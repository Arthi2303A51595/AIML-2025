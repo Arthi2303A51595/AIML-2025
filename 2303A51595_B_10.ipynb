{
  "nbformat": 4,
  "nbformat_minor": 0,
  "metadata": {
    "colab": {
      "provenance": [],
      "authorship_tag": "ABX9TyN90CekHBEFe8vTYnce4RTt",
      "include_colab_link": true
    },
    "kernelspec": {
      "name": "python3",
      "display_name": "Python 3"
    },
    "language_info": {
      "name": "python"
    }
  },
  "cells": [
    {
      "cell_type": "markdown",
      "metadata": {
        "id": "view-in-github",
        "colab_type": "text"
      },
      "source": [
        "<a href=\"https://colab.research.google.com/github/Arthi2303A51595/AIML-2025/blob/main/2303A51595_B_10.ipynb\" target=\"_parent\"><img src=\"https://colab.research.google.com/assets/colab-badge.svg\" alt=\"Open In Colab\"/></a>"
      ]
    },
    {
      "cell_type": "code",
      "execution_count": null,
      "metadata": {
        "id": "NY5dGVO-2LkH"
      },
      "outputs": [],
      "source": [
        "\"\"\"Prediction of You Tube Spams in Music content\n",
        "Q1.Identify the top 5 spam music videos of KatyPerry ?\n",
        "Q2.Name the music singer with the highest spam content on YoouTube?\n",
        "Q3. Identify the total number of Music Video with max and min spam content?\n",
        "Q4.Name the date when most spam content was produced and by which singer?\n",
        "Q5.Name the singer and song most watched in YoutTube?\"\"\""
      ]
    },
    {
      "cell_type": "code",
      "source": [
        "import pandas as pd\n",
        "import numpy as np\n",
        "import matplotlib.pyplot as plt\n",
        "import seaborn as sns"
      ],
      "metadata": {
        "id": "trX2xyZK90b4"
      },
      "execution_count": 41,
      "outputs": []
    },
    {
      "cell_type": "code",
      "source": [
        "file_path = '/content/youtube_data.csv'  # File path of the uploaded dataset\n",
        "df = pd.read_csv(file_path)\n",
        "print(df)"
      ],
      "metadata": {
        "colab": {
          "base_uri": "https://localhost:8080/"
        },
        "id": "2-AA_ODU_Lt_",
        "outputId": "6423afa8-23a2-40c7-ae34-b0979d776e2e"
      },
      "execution_count": 45,
      "outputs": [
        {
          "output_type": "stream",
          "name": "stdout",
          "text": [
            "                                COMMENT_ID          AUTHOR  \\\n",
            "0    z13uwn2heqndtr5g304ccv5j5kqqzxjadmc0k    Corey Wilson   \n",
            "1    z124jvczaz3dxhnbc04cffk43oiugj25yzo0k     Epic Gaming   \n",
            "2        z13tczjy5xj0vjmu5231unho1ofey5zdk       LaS Music   \n",
            "3    z13tzr0hdpnayhqqc04cd3zqqqjkf3ngckk0k      Cheryl Fox   \n",
            "4    z12pcvix4zedcjvyb04ccr1r0mr2g5xwyng0k      PATRICK_TW   \n",
            "..                                     ...             ...   \n",
            "433      z13lvr4iupatjlrem231yvpxolzvspwdl      Salty Croc   \n",
            "434  z12lxhrqdkyusbkji04cihtrvn3jvxnqszg0k       Bob Orton   \n",
            "435      z12xhdjrsxm3v550w22oynsjrnmvjhkvj  LuckyMusiqLive   \n",
            "436      z13msngo3qvwx1ym223pehqgouexzdmnm  xXxPWND 420xXx   \n",
            "437    z120hptrylzqzdsoj04cepaonmuyyr1afj0  Matheus Macedo   \n",
            "\n",
            "                           DATE  \\\n",
            "0    2015-05-28T21:39:52.376000   \n",
            "1    2015-05-28T20:07:20.610000   \n",
            "2    2015-05-28T19:23:35.355000   \n",
            "3    2015-05-28T17:49:35.294000   \n",
            "4    2015-05-28T16:28:26.818000   \n",
            "..                          ...   \n",
            "433  2014-07-22T04:20:37.489000   \n",
            "434  2014-07-22T00:26:50.820000   \n",
            "435  2014-07-21T22:25:54.048000   \n",
            "436  2014-07-21T11:05:51.945000   \n",
            "437  2014-07-21T04:24:24.585000   \n",
            "\n",
            "                                               CONTENT  CLASS  \n",
            "0    <a href=\"http://www.youtube.com/watch?v=KQ6zr6...      0  \n",
            "1                                     wierd but funny﻿      0  \n",
            "2    Hey guys, I&#39;m a human.<br /><br /><br />Bu...      1  \n",
            "3         Party Rock....lol...who wants to shuffle!!!﻿      0  \n",
            "4                                          Party rock﻿      0  \n",
            "..                                                 ...    ...  \n",
            "433                   Like this comment for no reason﻿      1  \n",
            "434                                    love this song﻿      0  \n",
            "435  this song is awesome. these guys are the best....      1  \n",
            "436   HOW MANY THUMBS UP FOR LOUIS SAVING THE DAY!?!?﻿      1  \n",
            "437                                           NICE :3﻿      0  \n",
            "\n",
            "[438 rows x 5 columns]\n"
          ]
        }
      ]
    },
    {
      "cell_type": "code",
      "source": [
        "print(\"Dataset Head:\\n\", df.head())\n",
        "print(\"\\nDataset Info:\")\n",
        "print(df.info())\n",
        "print(\"\\nMissing Values:\\n\", df.isnull().sum())"
      ],
      "metadata": {
        "colab": {
          "base_uri": "https://localhost:8080/"
        },
        "id": "m49QkflJ_Lxe",
        "outputId": "121f7f55-8993-4c0e-9896-00e6128b6fc6"
      },
      "execution_count": 46,
      "outputs": [
        {
          "output_type": "stream",
          "name": "stdout",
          "text": [
            "Dataset Head:\n",
            "                               COMMENT_ID        AUTHOR  \\\n",
            "0  z13uwn2heqndtr5g304ccv5j5kqqzxjadmc0k  Corey Wilson   \n",
            "1  z124jvczaz3dxhnbc04cffk43oiugj25yzo0k   Epic Gaming   \n",
            "2      z13tczjy5xj0vjmu5231unho1ofey5zdk     LaS Music   \n",
            "3  z13tzr0hdpnayhqqc04cd3zqqqjkf3ngckk0k    Cheryl Fox   \n",
            "4  z12pcvix4zedcjvyb04ccr1r0mr2g5xwyng0k    PATRICK_TW   \n",
            "\n",
            "                         DATE  \\\n",
            "0  2015-05-28T21:39:52.376000   \n",
            "1  2015-05-28T20:07:20.610000   \n",
            "2  2015-05-28T19:23:35.355000   \n",
            "3  2015-05-28T17:49:35.294000   \n",
            "4  2015-05-28T16:28:26.818000   \n",
            "\n",
            "                                             CONTENT  CLASS  \n",
            "0  <a href=\"http://www.youtube.com/watch?v=KQ6zr6...      0  \n",
            "1                                   wierd but funny﻿      0  \n",
            "2  Hey guys, I&#39;m a human.<br /><br /><br />Bu...      1  \n",
            "3       Party Rock....lol...who wants to shuffle!!!﻿      0  \n",
            "4                                        Party rock﻿      0  \n",
            "\n",
            "Dataset Info:\n",
            "<class 'pandas.core.frame.DataFrame'>\n",
            "RangeIndex: 438 entries, 0 to 437\n",
            "Data columns (total 5 columns):\n",
            " #   Column      Non-Null Count  Dtype \n",
            "---  ------      --------------  ----- \n",
            " 0   COMMENT_ID  438 non-null    object\n",
            " 1   AUTHOR      438 non-null    object\n",
            " 2   DATE        438 non-null    object\n",
            " 3   CONTENT     438 non-null    object\n",
            " 4   CLASS       438 non-null    int64 \n",
            "dtypes: int64(1), object(4)\n",
            "memory usage: 17.2+ KB\n",
            "None\n",
            "\n",
            "Missing Values:\n",
            " COMMENT_ID    0\n",
            "AUTHOR        0\n",
            "DATE          0\n",
            "CONTENT       0\n",
            "CLASS         0\n",
            "dtype: int64\n"
          ]
        }
      ]
    },
    {
      "cell_type": "code",
      "source": [
        "print(\"\\nSummary Statistics:\\n\", df.describe())"
      ],
      "metadata": {
        "colab": {
          "base_uri": "https://localhost:8080/"
        },
        "id": "D_uU2nDc90ej",
        "outputId": "3ac2f0db-438a-4586-b4fb-5690ca5a0b1c"
      },
      "execution_count": 47,
      "outputs": [
        {
          "output_type": "stream",
          "name": "stdout",
          "text": [
            "\n",
            "Summary Statistics:\n",
            "             CLASS\n",
            "count  438.000000\n",
            "mean     0.538813\n",
            "std      0.499061\n",
            "min      0.000000\n",
            "25%      0.000000\n",
            "50%      1.000000\n",
            "75%      1.000000\n",
            "max      1.000000\n"
          ]
        }
      ]
    },
    {
      "cell_type": "code",
      "source": [
        "print(\"\\nSpam Comment Distribution:\")\n",
        "print(df['CLASS'].value_counts())"
      ],
      "metadata": {
        "colab": {
          "base_uri": "https://localhost:8080/"
        },
        "id": "NqW7v8ow90h7",
        "outputId": "9a55d033-13c3-47c9-bd38-4ef97cde2dd9"
      },
      "execution_count": 48,
      "outputs": [
        {
          "output_type": "stream",
          "name": "stdout",
          "text": [
            "\n",
            "Spam Comment Distribution:\n",
            "CLASS\n",
            "1    236\n",
            "0    202\n",
            "Name: count, dtype: int64\n"
          ]
        }
      ]
    },
    {
      "cell_type": "code",
      "source": [
        "sns.countplot(data=df, x='CLASS', palette='Set2')\n",
        "plt.title(\"Spam vs Non-Spam Comments\")\n",
        "plt.xlabel(\"CLASS (0: Non-Spam, 1: Spam)\")\n",
        "plt.ylabel(\"Count\")\n",
        "plt.show()"
      ],
      "metadata": {
        "colab": {
          "base_uri": "https://localhost:8080/",
          "height": 579
        },
        "id": "Q8w4g655A7kM",
        "outputId": "cded733a-77fa-4c61-8295-dc72ef8ace7b"
      },
      "execution_count": 49,
      "outputs": [
        {
          "output_type": "stream",
          "name": "stderr",
          "text": [
            "<ipython-input-49-1677ded765e3>:1: FutureWarning: \n",
            "\n",
            "Passing `palette` without assigning `hue` is deprecated and will be removed in v0.14.0. Assign the `x` variable to `hue` and set `legend=False` for the same effect.\n",
            "\n",
            "  sns.countplot(data=df, x='CLASS', palette='Set2')\n"
          ]
        },
        {
          "output_type": "display_data",
          "data": {
            "text/plain": [
              "<Figure size 640x480 with 1 Axes>"
            ],
            "image/png": "[encoded data removed]"
          },
          "metadata": {}
        }
      ]
    },
    {
      "cell_type": "code",
      "source": [
        "from sklearn.feature_extraction.text import CountVectorizer"
      ],
      "metadata": {
        "id": "sEdmpDRKA7mE"
      },
      "execution_count": 50,
      "outputs": []
    },
    {
      "cell_type": "code",
      "source": [
        "spam_comments = df[df['CLASS'] == 1]['CONTENT']"
      ],
      "metadata": {
        "id": "ockXZXhlA7pv"
      },
      "execution_count": 51,
      "outputs": []
    },
    {
      "cell_type": "code",
      "source": [
        "vectorizer = CountVectorizer(stop_words='english')\n",
        "X = vectorizer.fit_transform(spam_comments)"
      ],
      "metadata": {
        "id": "JS62H17wBIsK"
      },
      "execution_count": 52,
      "outputs": []
    },
    {
      "cell_type": "code",
      "source": [
        "spam_words = np.array(vectorizer.get_feature_names_out())\n",
        "spam_word_counts = np.array(X.sum(axis=0)).flatten()"
      ],
      "metadata": {
        "id": "gjbrmDJxBIur"
      },
      "execution_count": 53,
      "outputs": []
    },
    {
      "cell_type": "code",
      "source": [
        "common_spam_words = pd.DataFrame({'Word': spam_words, 'Count': spam_word_counts})\n",
        "common_spam_words = common_spam_words.sort_values(by='Count', ascending=False).head(10)"
      ],
      "metadata": {
        "id": "clX4MTkABIyJ"
      },
      "execution_count": 54,
      "outputs": []
    },
    {
      "cell_type": "code",
      "source": [
        "print(\"\\nTop 10 Common Spam Words:\\n\", common_spam_words)"
      ],
      "metadata": {
        "id": "_lfBBH9ABUw7"
      },
      "execution_count": null,
      "outputs": []
    },
    {
      "cell_type": "code",
      "source": [
        "sns.barplot(data=common_spam_words, x='Count', y='Word', palette='viridis')\n",
        "plt.title(\"Most Common Spam Words in Spam Comments\")\n",
        "plt.xlabel(\"Count\")\n",
        "plt.ylabel(\"Word\")\n",
        "plt.show()"
      ],
      "metadata": {
        "colab": {
          "base_uri": "https://localhost:8080/",
          "height": 579
        },
        "id": "H7xAinSsBU0n",
        "outputId": "e8d00068-ced5-400e-affd-fedf96aa3e1b"
      },
      "execution_count": 55,
      "outputs": [
        {
          "output_type": "stream",
          "name": "stderr",
          "text": [
            "<ipython-input-55-7da27b520a96>:1: FutureWarning: \n",
            "\n",
            "Passing `palette` without assigning `hue` is deprecated and will be removed in v0.14.0. Assign the `y` variable to `hue` and set `legend=False` for the same effect.\n",
            "\n",
            "  sns.barplot(data=common_spam_words, x='Count', y='Word', palette='viridis')\n"
          ]
        },
        {
          "output_type": "display_data",
          "data": {
            "text/plain": [
              "<Figure size 640x480 with 1 Axes>"
            ],
            "image/png": "[encoded data removed]"
          },
          "metadata": {}
        }
      ]
    },
    {
      "cell_type": "code",
      "source": [
        "processed_file_path = '/content/youtube_data.csv'\n",
        "df.to_csv(processed_file_path, index=False)\n",
        "print(f\"Processed data saved as '{processed_file_path}'.\")"
      ],
      "metadata": {
        "colab": {
          "base_uri": "https://localhost:8080/"
        },
        "id": "_18cWqBTBZKQ",
        "outputId": "9e599e13-5492-4284-ba22-a2ff1897eb7f"
      },
      "execution_count": 57,
      "outputs": [
        {
          "output_type": "stream",
          "name": "stdout",
          "text": [
            "Processed data saved as '/content/youtube_data.csv'.\n"
          ]
        }
      ]
    }
  ]
}